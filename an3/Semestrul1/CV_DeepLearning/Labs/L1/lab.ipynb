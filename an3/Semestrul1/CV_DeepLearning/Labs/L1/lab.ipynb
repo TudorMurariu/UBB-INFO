{
 "cells": [
  {
   "cell_type": "markdown",
   "metadata": {},
   "source": [
    "# Lab 1"
   ]
  },
  {
   "cell_type": "code",
   "execution_count": 1,
   "metadata": {},
   "outputs": [
    {
     "ename": "ModuleNotFoundError",
     "evalue": "No module named 'cv2'",
     "output_type": "error",
     "traceback": [
      "\u001b[1;31m---------------------------------------------------------------------------\u001b[0m",
      "\u001b[1;31mModuleNotFoundError\u001b[0m                       Traceback (most recent call last)",
      "\u001b[1;32mc:\\Users\\tudor\\OneDrive\\Desktop\\UBB INFO\\an3\\Semestrul1\\CV_DeepLearning\\L1\\lab.ipynb Cell 2\u001b[0m line \u001b[0;36m2\n\u001b[0;32m      <a href='vscode-notebook-cell:/c%3A/Users/tudor/OneDrive/Desktop/UBB%20INFO/an3/Semestrul1/CV_DeepLearning/L1/lab.ipynb#W2sZmlsZQ%3D%3D?line=0'>1</a>\u001b[0m \u001b[39m# library imports\u001b[39;00m\n\u001b[1;32m----> <a href='vscode-notebook-cell:/c%3A/Users/tudor/OneDrive/Desktop/UBB%20INFO/an3/Semestrul1/CV_DeepLearning/L1/lab.ipynb#W2sZmlsZQ%3D%3D?line=1'>2</a>\u001b[0m \u001b[39mimport\u001b[39;00m \u001b[39mcv2\u001b[39;00m\n\u001b[0;32m      <a href='vscode-notebook-cell:/c%3A/Users/tudor/OneDrive/Desktop/UBB%20INFO/an3/Semestrul1/CV_DeepLearning/L1/lab.ipynb#W2sZmlsZQ%3D%3D?line=2'>3</a>\u001b[0m \u001b[39mimport\u001b[39;00m \u001b[39mnumpy\u001b[39;00m \u001b[39mas\u001b[39;00m \u001b[39mnp\u001b[39;00m\n\u001b[0;32m      <a href='vscode-notebook-cell:/c%3A/Users/tudor/OneDrive/Desktop/UBB%20INFO/an3/Semestrul1/CV_DeepLearning/L1/lab.ipynb#W2sZmlsZQ%3D%3D?line=3'>4</a>\u001b[0m \u001b[39mimport\u001b[39;00m \u001b[39mmatplotlib\u001b[39;00m\u001b[39m.\u001b[39;00m\u001b[39mpyplot\u001b[39;00m \u001b[39mas\u001b[39;00m \u001b[39mplt\u001b[39;00m\n",
      "\u001b[1;31mModuleNotFoundError\u001b[0m: No module named 'cv2'"
     ]
    }
   ],
   "source": [
    "# library imports\n",
    "import cv2\n",
    "import numpy as np\n",
    "import matplotlib.pyplot as plt\n",
    "\n",
    "%matplotlib inline\n",
    "#The line above is necesary to show Matplotlib's plots inside a Jupyter Notebook"
   ]
  },
  {
   "cell_type": "markdown",
   "metadata": {},
   "source": [
    "# NUMPY\n",
    "\n",
    "rows, cols, depth\n",
    "\n",
    "x = 10, y = 100   -->  arr[100, 10]\n",
    "\n",
    "### Slicing\n",
    "\n",
    "Ex: arr[2, :, :]\n",
    "\n",
    "### Vectors (np arrays)\n",
    "\n",
    "*multiply two images:*   np.multiply + - * ^\n",
    "```python\n",
    "                        (n, w)\n",
    "np.sum(a)     np.sum(a, axis=0)    -->  (1,w)\n",
    "np.mean \n",
    "np.std \n",
    "```\n",
    "\n",
    "### Broadcasting\n",
    "\n",
    "*Conditions:*\n",
    "```python\n",
    "same nr of dimensions \n",
    " or\n",
    "one shape is one and other are the same\n",
    "\n",
    "(244, 128) +\n",
    "(1, 128)\n",
    "--->  (244, 128)\n",
    "```\n",
    "\n",
    "# Images\n",
    "-openvc2 library\n",
    "```python\n",
    "img = cv2.mread('ex.png') -> B,G,R\n",
    "reed = img[:,:,1]  --> upscale [0 -> 255]\n",
    "                                     \n",
    "Overflow!!!  254 + 5 =               259\n",
    "np.clip()\n",
    "\n",
    "\n",
    "\n",
    "np.histogram()  -> 0       | i |             255\n",
    "                             how many pixels have the value i\n",
    "                             (frequency vector)\n",
    "matplotlib for output\n",
    "```\n",
    "\n",
    "# PyTorch\n",
    "\n",
    "| CNN |\n",
    "\n",
    "*Normalisation*\n",
    "1. resize    cv2.resize()\n",
    "2. slice \n",
    "3. rescale\n",
    "4. normalise (standard scaling)\n",
    "5. reshape  (1, 3, 224, 224)   batch of a single image"
   ]
  },
  {
   "cell_type": "code",
   "execution_count": null,
   "metadata": {},
   "outputs": [],
   "source": []
  }
 ],
 "metadata": {
  "kernelspec": {
   "display_name": "base",
   "language": "python",
   "name": "python3"
  },
  "language_info": {
   "codemirror_mode": {
    "name": "ipython",
    "version": 3
   },
   "file_extension": ".py",
   "mimetype": "text/x-python",
   "name": "python",
   "nbconvert_exporter": "python",
   "pygments_lexer": "ipython3",
   "version": "3.11.5"
  }
 },
 "nbformat": 4,
 "nbformat_minor": 2
}
