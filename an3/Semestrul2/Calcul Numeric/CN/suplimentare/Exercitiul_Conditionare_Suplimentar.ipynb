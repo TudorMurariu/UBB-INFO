{
 "cells": [
  {
   "cell_type": "code",
   "execution_count": 1,
   "metadata": {},
   "outputs": [],
   "source": [
    "import numpy as np\n",
    "def condpol(p, r=None):\n",
    "    \"\"\"\n",
    "    Computes the condition number of a polynomial equation p(x) = 0.\n",
    "    \n",
    "    Parameters:\n",
    "        p (list): the coefficients of the polynomial equation p(x) = 0.\n",
    "        r (list, optional): the roots of the polynomial equation p(x) = 0. If None, the roots are computed.\n",
    "    \n",
    "    Returns:\n",
    "        float: the condition number of the polynomial equation p(x) = 0.\n",
    "    \"\"\"\n",
    "    if r is None:\n",
    "        r = np.roots(p)\n",
    "    \n",
    "    # compute the derivative of p(x)\n",
    "    # the derivative has one less term than the associated polynomial\n",
    "    n = len(p) - 1\n",
    "    dp = np.arange(n, 0, -1) * p[:-1]\n",
    "    val_df = np.polyval(dp, r)\n",
    "    poliv = np.polyval(np.abs(p[1:]), np.abs(r))\n",
    "    nc = poliv / (np.abs(r * val_df))\n",
    "    return nc"
   ]
  },
  {
   "cell_type": "code",
   "execution_count": 2,
   "metadata": {},
   "outputs": [
    {
     "data": {
      "text/plain": [
       "'Condition number of the polynomial:'"
      ]
     },
     "metadata": {},
     "output_type": "display_data"
    },
    {
     "data": {
      "text/plain": [
       "array([1.43493222e+14, 1.43493222e+14, 1.24835478e+14, 1.24835478e+14,\n",
       "       1.21525147e+14, 1.21525147e+14, 1.24099037e+14, 1.24099037e+14,\n",
       "       1.36115027e+14, 1.36115027e+14, 1.61488079e+14, 1.61488079e+14,\n",
       "       1.62103326e+15, 1.94421326e+14, 1.94421326e+14, 2.08217551e+14,\n",
       "       2.08217551e+14, 1.94955656e+14, 1.94955656e+14, 1.57172930e+15,\n",
       "       2.01298591e+14, 2.01298591e+14, 2.72626851e+14, 2.72626851e+14,\n",
       "       6.44478071e+14, 6.44478071e+14, 1.14788906e+15, 1.14788906e+15,\n",
       "       4.18305716e+14, 4.18305716e+14, 3.06809621e+14, 3.06809621e+14,\n",
       "       3.57003132e+14, 3.57003132e+14, 1.12244760e+14, 1.12244760e+14,\n",
       "       3.41416894e+12, 3.37952562e+12, 1.74420227e+10, 1.74405305e+10])"
      ]
     },
     "metadata": {},
     "output_type": "display_data"
    }
   ],
   "source": [
    "n = 20\n",
    "r = np.arange(1, n+1)\n",
    "poli = np.poly(np.repeat(r, 2))\n",
    "\n",
    "# compute the condition number of the polynomial\n",
    "cond = condpol(poli)\n",
    "display(\"Condition number of the polynomial:\", cond)"
   ]
  },
  {
   "cell_type": "code",
   "execution_count": 3,
   "metadata": {},
   "outputs": [
    {
     "name": "stdout",
     "output_type": "stream",
     "text": [
      "Condition number of the polynomial: [4.18749406e+15 4.60362752e+15 5.48604326e+14 5.91162675e+14\n",
      " 2.70227954e+14 4.86845958e+08 4.54129298e+05 6.46763732e+03\n",
      " 3.79626569e+02 5.11492701e+01 1.16472355e+01 3.76004097e+00\n",
      " 1.54569304e+00 7.55383511e-01 4.19266417e-01 2.56146577e-01\n",
      " 1.68491588e-01 1.17447194e-01 8.57401854e-02 6.49793539e-02]\n"
     ]
    },
    {
     "data": {
      "image/png": "[encoded data removed]",
      "text/plain": [
       "<Figure size 432x288 with 1 Axes>"
      ]
     },
     "metadata": {
      "needs_background": "light"
     },
     "output_type": "display_data"
    }
   ],
   "source": [
    "import numpy as np\n",
    "import matplotlib.pyplot as plt\n",
    "\n",
    "# define the roots and create the polynomial\n",
    "r = np.arange(1, 21)\n",
    "poli1 = np.poly(np.repeat(r, 2)).repeat(2)\n",
    "\n",
    "# compute the condition number of the polynomial\n",
    "cond = condpol(poli1, r)\n",
    "print(\"Condition number of the polynomial:\", cond)\n",
    "\n",
    "# plot the roots and their perturbations\n",
    "nn = len(r)\n",
    "plt.plot(r, np.zeros(nn), 'k.', markersize=21)\n",
    "\n",
    "for i in range(20):\n",
    "    # add normal distribution noise to the polynomial\n",
    "    poli1_per_norm = poli1 + np.random.normal(0, 1e-10, len(poli1))\n",
    "    # compute the roots of the perturbed polynomial\n",
    "    r_norm = np.roots(poli1_per_norm)\n",
    "    plt.plot(r_norm.real, r_norm.imag, 'b.', markersize=4)\n",
    "    \n",
    "    # add uniform distribution noise to the polynomial\n",
    "    poli1_per_unif = poli1 + np.random.uniform(0, 1e-10, len(poli1))\n",
    "    # compute the roots of the perturbed polynomial\n",
    "    r_unif = np.roots(poli1_per_unif)\n",
    "    plt.plot(r_unif.real, r_unif.imag, 'r*', markersize=2)\n",
    "\n",
    "plt.legend(['r', 'distrib norm', 'distrib unif'])\n",
    "plt.show()\n"
   ]
  }
 ],
 "metadata": {
  "kernelspec": {
   "display_name": "SageMath 9.3",
   "language": "sage",
   "name": "sagemath"
  },
  "language_info": {
   "codemirror_mode": {
    "name": "ipython",
    "version": 3
   },
   "file_extension": ".py",
   "mimetype": "text/x-python",
   "name": "python",
   "nbconvert_exporter": "python",
   "pygments_lexer": "ipython3",
   "version": "3.7.10"
  }
 },
 "nbformat": 4,
 "nbformat_minor": 5
}
