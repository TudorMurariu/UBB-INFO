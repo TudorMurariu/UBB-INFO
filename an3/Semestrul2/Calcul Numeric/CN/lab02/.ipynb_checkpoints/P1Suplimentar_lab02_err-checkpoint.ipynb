{
 "cells": [
  {
   "cell_type": "code",
   "execution_count": 1,
   "metadata": {},
   "outputs": [
    {
     "data": {
      "text/plain": [
       "2.220446049250313e-16"
      ]
     },
     "execution_count": 1,
     "metadata": {},
     "output_type": "execute_result"
    }
   ],
   "source": [
    "my_one = float(1)\n",
    "eps = my_one\n",
    "n = 0\n",
    "while my_one + eps != my_one:\n",
    "    eps /= 2\n",
    "    n += 1\n",
    "n -= 1\n",
    "eps *= 2\n",
    "eps"
   ]
  },
  {
   "cell_type": "code",
   "execution_count": 15,
   "metadata": {},
   "outputs": [
    {
     "data": {
      "text/plain": [
       "9.22337203685478e18"
      ]
     },
     "execution_count": 15,
     "metadata": {},
     "output_type": "execute_result"
    }
   ],
   "source": [
    "RR(sys.maxsize)"
   ]
  },
  {
   "cell_type": "code",
   "execution_count": 11,
   "metadata": {
    "scrolled": true
   },
   "outputs": [
    {
     "name": "stdout",
     "output_type": "stream",
     "text": [
      "9.223372036854775e+18\n"
     ]
    }
   ],
   "source": [
    "i = 1;\n",
    "two = float(2);\n",
    "largest_number = two;\n",
    "while largest_number * two < sys.maxsize:\n",
    "    largest_number *= two;\n",
    "    i += 1;\n",
    "pow_2 = 2 ^ (i - 1); \n",
    "while largest_number + pow_2 < sys.maxsize:\n",
    "    largest_number += pow_2;\n",
    "    pow_2 /= 2;\n",
    "print(largest_number)\n",
    "print('Largest number: ' + str(largest_number))"
   ]
  },
  {
   "cell_type": "code",
   "execution_count": 9,
   "metadata": {},
   "outputs": [
    {
     "name": "stdout",
     "output_type": "stream",
     "text": [
      "Lowest normalized number: 2.2250738585072014e-308\n"
     ]
    }
   ],
   "source": [
    "x = float(1);\n",
    "two = float(2);\n",
    "i = 0;\n",
    "epsilonul_masinii = eps\n",
    "while x * (1 + epsilonul_masinii) != x:\n",
    "    x /= two;\n",
    "    i += 1;\n",
    "end\n",
    "x *= two\n",
    "print('Lowest normalized number: ' + str(x))"
   ]
  },
  {
   "cell_type": "code",
   "execution_count": 23,
   "metadata": {},
   "outputs": [
    {
     "name": "stdout",
     "output_type": "stream",
     "text": [
      "Lowest non-normalized number: 5e-324\n"
     ]
    }
   ],
   "source": [
    "x = float(1);\n",
    "i = 0;\n",
    "while x / 2 > 0:\n",
    "    x /= 2;\n",
    "    i += 1;\n",
    "print('Lowest non-normalized number: ' + str(x))"
   ]
  }
 ],
 "metadata": {
  "kernelspec": {
   "display_name": "SageMath 9.3",
   "language": "sage",
   "name": "sagemath"
  },
  "language_info": {
   "codemirror_mode": {
    "name": "ipython",
    "version": 3
   },
   "file_extension": ".py",
   "mimetype": "text/x-python",
   "name": "python",
   "nbconvert_exporter": "python",
   "pygments_lexer": "ipython3",
   "version": "3.7.10"
  }
 },
 "nbformat": 4,
 "nbformat_minor": 4
}
